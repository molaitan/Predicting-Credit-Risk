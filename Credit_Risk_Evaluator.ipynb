{
  "cells": [
    {
      "cell_type": "markdown",
      "metadata": {
        "id": "view-in-github",
        "colab_type": "text"
      },
      "source": [
        "<a href=\"https://colab.research.google.com/github/molaitan/Predicting-Credit-Risk/blob/main/Credit_Risk_Evaluator.ipynb\" target=\"_parent\"><img src=\"https://colab.research.google.com/assets/colab-badge.svg\" alt=\"Open In Colab\"/></a>"
      ]
    },
    {
      "cell_type": "code",
      "execution_count": 18,
      "metadata": {
        "id": "zCiCzu67UGfc"
      },
      "outputs": [],
      "source": [
        "import numpy as np\n",
        "import pandas as pd\n",
        "from pathlib import Path\n",
        "import warnings\n",
        "warnings.filterwarnings('ignore')\n",
        "from sklearn.linear_model import LogisticRegression\n",
        "from sklearn.ensemble import RandomForestClassifier"
      ]
    },
    {
      "cell_type": "code",
      "execution_count": 4,
      "metadata": {
        "id": "Z4Jdvn-QUGfe"
      },
      "outputs": [],
      "source": [
        "train_df = pd.read_csv(Path('2019loans.csv'))\n",
        "test_df = pd.read_csv(Path('2020Q1loans.csv'))"
      ]
    },
    {
      "cell_type": "code",
      "source": [
        "train_df.head(2)"
      ],
      "metadata": {
        "colab": {
          "base_uri": "https://localhost:8080/",
          "height": 205
        },
        "id": "Lc6UWcxmIY-w",
        "outputId": "a7e87323-231b-4896-c186-f923950d3e22"
      },
      "execution_count": 5,
      "outputs": [
        {
          "output_type": "execute_result",
          "data": {
            "text/plain": [
              "   loan_amnt  int_rate  installment home_ownership  annual_inc  \\\n",
              "0     7000.0    0.1894       256.38       MORTGAGE     75000.0   \n",
              "1    40000.0    0.1614       975.71       MORTGAGE    102000.0   \n",
              "\n",
              "  verification_status pymnt_plan    dti  delinq_2yrs  inq_last_6mths  ...  \\\n",
              "0        Not Verified          n  28.62          0.0             2.0  ...   \n",
              "1     Source Verified          n  11.72          2.0             0.0  ...   \n",
              "\n",
              "   percent_bc_gt_75  pub_rec_bankruptcies  tax_liens  tot_hi_cred_lim  \\\n",
              "0              87.5                   0.0        0.0         352260.0   \n",
              "1               0.0                   0.0        0.0         294664.0   \n",
              "\n",
              "  total_bal_ex_mort  total_bc_limit  total_il_high_credit_limit  \\\n",
              "0           62666.0         35000.0                     10000.0   \n",
              "1          109911.0          9000.0                     71044.0   \n",
              "\n",
              "   hardship_flag  debt_settlement_flag    target  \n",
              "0              N                     N  low_risk  \n",
              "1              N                     N  low_risk  \n",
              "\n",
              "[2 rows x 84 columns]"
            ],
            "text/html": [
              "\n",
              "  <div id=\"df-ffec7599-bf9f-4444-a988-9b343d19a75b\">\n",
              "    <div class=\"colab-df-container\">\n",
              "      <div>\n",
              "<style scoped>\n",
              "    .dataframe tbody tr th:only-of-type {\n",
              "        vertical-align: middle;\n",
              "    }\n",
              "\n",
              "    .dataframe tbody tr th {\n",
              "        vertical-align: top;\n",
              "    }\n",
              "\n",
              "    .dataframe thead th {\n",
              "        text-align: right;\n",
              "    }\n",
              "</style>\n",
              "<table border=\"1\" class=\"dataframe\">\n",
              "  <thead>\n",
              "    <tr style=\"text-align: right;\">\n",
              "      <th></th>\n",
              "      <th>loan_amnt</th>\n",
              "      <th>int_rate</th>\n",
              "      <th>installment</th>\n",
              "      <th>home_ownership</th>\n",
              "      <th>annual_inc</th>\n",
              "      <th>verification_status</th>\n",
              "      <th>pymnt_plan</th>\n",
              "      <th>dti</th>\n",
              "      <th>delinq_2yrs</th>\n",
              "      <th>inq_last_6mths</th>\n",
              "      <th>...</th>\n",
              "      <th>percent_bc_gt_75</th>\n",
              "      <th>pub_rec_bankruptcies</th>\n",
              "      <th>tax_liens</th>\n",
              "      <th>tot_hi_cred_lim</th>\n",
              "      <th>total_bal_ex_mort</th>\n",
              "      <th>total_bc_limit</th>\n",
              "      <th>total_il_high_credit_limit</th>\n",
              "      <th>hardship_flag</th>\n",
              "      <th>debt_settlement_flag</th>\n",
              "      <th>target</th>\n",
              "    </tr>\n",
              "  </thead>\n",
              "  <tbody>\n",
              "    <tr>\n",
              "      <th>0</th>\n",
              "      <td>7000.0</td>\n",
              "      <td>0.1894</td>\n",
              "      <td>256.38</td>\n",
              "      <td>MORTGAGE</td>\n",
              "      <td>75000.0</td>\n",
              "      <td>Not Verified</td>\n",
              "      <td>n</td>\n",
              "      <td>28.62</td>\n",
              "      <td>0.0</td>\n",
              "      <td>2.0</td>\n",
              "      <td>...</td>\n",
              "      <td>87.5</td>\n",
              "      <td>0.0</td>\n",
              "      <td>0.0</td>\n",
              "      <td>352260.0</td>\n",
              "      <td>62666.0</td>\n",
              "      <td>35000.0</td>\n",
              "      <td>10000.0</td>\n",
              "      <td>N</td>\n",
              "      <td>N</td>\n",
              "      <td>low_risk</td>\n",
              "    </tr>\n",
              "    <tr>\n",
              "      <th>1</th>\n",
              "      <td>40000.0</td>\n",
              "      <td>0.1614</td>\n",
              "      <td>975.71</td>\n",
              "      <td>MORTGAGE</td>\n",
              "      <td>102000.0</td>\n",
              "      <td>Source Verified</td>\n",
              "      <td>n</td>\n",
              "      <td>11.72</td>\n",
              "      <td>2.0</td>\n",
              "      <td>0.0</td>\n",
              "      <td>...</td>\n",
              "      <td>0.0</td>\n",
              "      <td>0.0</td>\n",
              "      <td>0.0</td>\n",
              "      <td>294664.0</td>\n",
              "      <td>109911.0</td>\n",
              "      <td>9000.0</td>\n",
              "      <td>71044.0</td>\n",
              "      <td>N</td>\n",
              "      <td>N</td>\n",
              "      <td>low_risk</td>\n",
              "    </tr>\n",
              "  </tbody>\n",
              "</table>\n",
              "<p>2 rows × 84 columns</p>\n",
              "</div>\n",
              "      <button class=\"colab-df-convert\" onclick=\"convertToInteractive('df-ffec7599-bf9f-4444-a988-9b343d19a75b')\"\n",
              "              title=\"Convert this dataframe to an interactive table.\"\n",
              "              style=\"display:none;\">\n",
              "        \n",
              "  <svg xmlns=\"http://www.w3.org/2000/svg\" height=\"24px\"viewBox=\"0 0 24 24\"\n",
              "       width=\"24px\">\n",
              "    <path d=\"M0 0h24v24H0V0z\" fill=\"none\"/>\n",
              "    <path d=\"M18.56 5.44l.94 2.06.94-2.06 2.06-.94-2.06-.94-.94-2.06-.94 2.06-2.06.94zm-11 1L8.5 8.5l.94-2.06 2.06-.94-2.06-.94L8.5 2.5l-.94 2.06-2.06.94zm10 10l.94 2.06.94-2.06 2.06-.94-2.06-.94-.94-2.06-.94 2.06-2.06.94z\"/><path d=\"M17.41 7.96l-1.37-1.37c-.4-.4-.92-.59-1.43-.59-.52 0-1.04.2-1.43.59L10.3 9.45l-7.72 7.72c-.78.78-.78 2.05 0 2.83L4 21.41c.39.39.9.59 1.41.59.51 0 1.02-.2 1.41-.59l7.78-7.78 2.81-2.81c.8-.78.8-2.07 0-2.86zM5.41 20L4 18.59l7.72-7.72 1.47 1.35L5.41 20z\"/>\n",
              "  </svg>\n",
              "      </button>\n",
              "      \n",
              "  <style>\n",
              "    .colab-df-container {\n",
              "      display:flex;\n",
              "      flex-wrap:wrap;\n",
              "      gap: 12px;\n",
              "    }\n",
              "\n",
              "    .colab-df-convert {\n",
              "      background-color: #E8F0FE;\n",
              "      border: none;\n",
              "      border-radius: 50%;\n",
              "      cursor: pointer;\n",
              "      display: none;\n",
              "      fill: #1967D2;\n",
              "      height: 32px;\n",
              "      padding: 0 0 0 0;\n",
              "      width: 32px;\n",
              "    }\n",
              "\n",
              "    .colab-df-convert:hover {\n",
              "      background-color: #E2EBFA;\n",
              "      box-shadow: 0px 1px 2px rgba(60, 64, 67, 0.3), 0px 1px 3px 1px rgba(60, 64, 67, 0.15);\n",
              "      fill: #174EA6;\n",
              "    }\n",
              "\n",
              "    [theme=dark] .colab-df-convert {\n",
              "      background-color: #3B4455;\n",
              "      fill: #D2E3FC;\n",
              "    }\n",
              "\n",
              "    [theme=dark] .colab-df-convert:hover {\n",
              "      background-color: #434B5C;\n",
              "      box-shadow: 0px 1px 3px 1px rgba(0, 0, 0, 0.15);\n",
              "      filter: drop-shadow(0px 1px 2px rgba(0, 0, 0, 0.3));\n",
              "      fill: #FFFFFF;\n",
              "    }\n",
              "  </style>\n",
              "\n",
              "      <script>\n",
              "        const buttonEl =\n",
              "          document.querySelector('#df-ffec7599-bf9f-4444-a988-9b343d19a75b button.colab-df-convert');\n",
              "        buttonEl.style.display =\n",
              "          google.colab.kernel.accessAllowed ? 'block' : 'none';\n",
              "\n",
              "        async function convertToInteractive(key) {\n",
              "          const element = document.querySelector('#df-ffec7599-bf9f-4444-a988-9b343d19a75b');\n",
              "          const dataTable =\n",
              "            await google.colab.kernel.invokeFunction('convertToInteractive',\n",
              "                                                     [key], {});\n",
              "          if (!dataTable) return;\n",
              "\n",
              "          const docLinkHtml = 'Like what you see? Visit the ' +\n",
              "            '<a target=\"_blank\" href=https://colab.research.google.com/notebooks/data_table.ipynb>data table notebook</a>'\n",
              "            + ' to learn more about interactive tables.';\n",
              "          element.innerHTML = '';\n",
              "          dataTable['output_type'] = 'display_data';\n",
              "          await google.colab.output.renderOutput(dataTable, element);\n",
              "          const docLink = document.createElement('div');\n",
              "          docLink.innerHTML = docLinkHtml;\n",
              "          element.appendChild(docLink);\n",
              "        }\n",
              "      </script>\n",
              "    </div>\n",
              "  </div>\n",
              "  "
            ]
          },
          "metadata": {},
          "execution_count": 5
        }
      ]
    },
    {
      "cell_type": "code",
      "source": [
        "test_df.head(2)"
      ],
      "metadata": {
        "colab": {
          "base_uri": "https://localhost:8080/",
          "height": 205
        },
        "id": "p67_DZyUIgHg",
        "outputId": "e728b728-da51-48ed-f08c-2850eb3f2d07"
      },
      "execution_count": 6,
      "outputs": [
        {
          "output_type": "execute_result",
          "data": {
            "text/plain": [
              "   loan_amnt  int_rate  installment home_ownership  annual_inc  \\\n",
              "0    40000.0    0.1033       856.40           RENT    128700.0   \n",
              "1    24450.0    0.1430       572.72       MORTGAGE     44574.0   \n",
              "\n",
              "  verification_status pymnt_plan    dti  delinq_2yrs  inq_last_6mths  ...  \\\n",
              "0     Source Verified          n  12.47          0.0             1.0  ...   \n",
              "1        Not Verified          n  15.05          0.0             1.0  ...   \n",
              "\n",
              "   percent_bc_gt_75  pub_rec_bankruptcies  tax_liens  tot_hi_cred_lim  \\\n",
              "0              57.1                   0.0        0.0          63915.0   \n",
              "1               0.0                   0.0        0.0         136425.0   \n",
              "\n",
              "  total_bal_ex_mort  total_bc_limit  total_il_high_credit_limit  \\\n",
              "0           49510.0         49400.0                     14515.0   \n",
              "1           19439.0         15500.0                     18925.0   \n",
              "\n",
              "   hardship_flag  debt_settlement_flag    target  \n",
              "0              Y                     N  low_risk  \n",
              "1              N                     N  low_risk  \n",
              "\n",
              "[2 rows x 84 columns]"
            ],
            "text/html": [
              "\n",
              "  <div id=\"df-f4525e98-7a7a-47ad-ad46-c7c3c802d9d0\">\n",
              "    <div class=\"colab-df-container\">\n",
              "      <div>\n",
              "<style scoped>\n",
              "    .dataframe tbody tr th:only-of-type {\n",
              "        vertical-align: middle;\n",
              "    }\n",
              "\n",
              "    .dataframe tbody tr th {\n",
              "        vertical-align: top;\n",
              "    }\n",
              "\n",
              "    .dataframe thead th {\n",
              "        text-align: right;\n",
              "    }\n",
              "</style>\n",
              "<table border=\"1\" class=\"dataframe\">\n",
              "  <thead>\n",
              "    <tr style=\"text-align: right;\">\n",
              "      <th></th>\n",
              "      <th>loan_amnt</th>\n",
              "      <th>int_rate</th>\n",
              "      <th>installment</th>\n",
              "      <th>home_ownership</th>\n",
              "      <th>annual_inc</th>\n",
              "      <th>verification_status</th>\n",
              "      <th>pymnt_plan</th>\n",
              "      <th>dti</th>\n",
              "      <th>delinq_2yrs</th>\n",
              "      <th>inq_last_6mths</th>\n",
              "      <th>...</th>\n",
              "      <th>percent_bc_gt_75</th>\n",
              "      <th>pub_rec_bankruptcies</th>\n",
              "      <th>tax_liens</th>\n",
              "      <th>tot_hi_cred_lim</th>\n",
              "      <th>total_bal_ex_mort</th>\n",
              "      <th>total_bc_limit</th>\n",
              "      <th>total_il_high_credit_limit</th>\n",
              "      <th>hardship_flag</th>\n",
              "      <th>debt_settlement_flag</th>\n",
              "      <th>target</th>\n",
              "    </tr>\n",
              "  </thead>\n",
              "  <tbody>\n",
              "    <tr>\n",
              "      <th>0</th>\n",
              "      <td>40000.0</td>\n",
              "      <td>0.1033</td>\n",
              "      <td>856.40</td>\n",
              "      <td>RENT</td>\n",
              "      <td>128700.0</td>\n",
              "      <td>Source Verified</td>\n",
              "      <td>n</td>\n",
              "      <td>12.47</td>\n",
              "      <td>0.0</td>\n",
              "      <td>1.0</td>\n",
              "      <td>...</td>\n",
              "      <td>57.1</td>\n",
              "      <td>0.0</td>\n",
              "      <td>0.0</td>\n",
              "      <td>63915.0</td>\n",
              "      <td>49510.0</td>\n",
              "      <td>49400.0</td>\n",
              "      <td>14515.0</td>\n",
              "      <td>Y</td>\n",
              "      <td>N</td>\n",
              "      <td>low_risk</td>\n",
              "    </tr>\n",
              "    <tr>\n",
              "      <th>1</th>\n",
              "      <td>24450.0</td>\n",
              "      <td>0.1430</td>\n",
              "      <td>572.72</td>\n",
              "      <td>MORTGAGE</td>\n",
              "      <td>44574.0</td>\n",
              "      <td>Not Verified</td>\n",
              "      <td>n</td>\n",
              "      <td>15.05</td>\n",
              "      <td>0.0</td>\n",
              "      <td>1.0</td>\n",
              "      <td>...</td>\n",
              "      <td>0.0</td>\n",
              "      <td>0.0</td>\n",
              "      <td>0.0</td>\n",
              "      <td>136425.0</td>\n",
              "      <td>19439.0</td>\n",
              "      <td>15500.0</td>\n",
              "      <td>18925.0</td>\n",
              "      <td>N</td>\n",
              "      <td>N</td>\n",
              "      <td>low_risk</td>\n",
              "    </tr>\n",
              "  </tbody>\n",
              "</table>\n",
              "<p>2 rows × 84 columns</p>\n",
              "</div>\n",
              "      <button class=\"colab-df-convert\" onclick=\"convertToInteractive('df-f4525e98-7a7a-47ad-ad46-c7c3c802d9d0')\"\n",
              "              title=\"Convert this dataframe to an interactive table.\"\n",
              "              style=\"display:none;\">\n",
              "        \n",
              "  <svg xmlns=\"http://www.w3.org/2000/svg\" height=\"24px\"viewBox=\"0 0 24 24\"\n",
              "       width=\"24px\">\n",
              "    <path d=\"M0 0h24v24H0V0z\" fill=\"none\"/>\n",
              "    <path d=\"M18.56 5.44l.94 2.06.94-2.06 2.06-.94-2.06-.94-.94-2.06-.94 2.06-2.06.94zm-11 1L8.5 8.5l.94-2.06 2.06-.94-2.06-.94L8.5 2.5l-.94 2.06-2.06.94zm10 10l.94 2.06.94-2.06 2.06-.94-2.06-.94-.94-2.06-.94 2.06-2.06.94z\"/><path d=\"M17.41 7.96l-1.37-1.37c-.4-.4-.92-.59-1.43-.59-.52 0-1.04.2-1.43.59L10.3 9.45l-7.72 7.72c-.78.78-.78 2.05 0 2.83L4 21.41c.39.39.9.59 1.41.59.51 0 1.02-.2 1.41-.59l7.78-7.78 2.81-2.81c.8-.78.8-2.07 0-2.86zM5.41 20L4 18.59l7.72-7.72 1.47 1.35L5.41 20z\"/>\n",
              "  </svg>\n",
              "      </button>\n",
              "      \n",
              "  <style>\n",
              "    .colab-df-container {\n",
              "      display:flex;\n",
              "      flex-wrap:wrap;\n",
              "      gap: 12px;\n",
              "    }\n",
              "\n",
              "    .colab-df-convert {\n",
              "      background-color: #E8F0FE;\n",
              "      border: none;\n",
              "      border-radius: 50%;\n",
              "      cursor: pointer;\n",
              "      display: none;\n",
              "      fill: #1967D2;\n",
              "      height: 32px;\n",
              "      padding: 0 0 0 0;\n",
              "      width: 32px;\n",
              "    }\n",
              "\n",
              "    .colab-df-convert:hover {\n",
              "      background-color: #E2EBFA;\n",
              "      box-shadow: 0px 1px 2px rgba(60, 64, 67, 0.3), 0px 1px 3px 1px rgba(60, 64, 67, 0.15);\n",
              "      fill: #174EA6;\n",
              "    }\n",
              "\n",
              "    [theme=dark] .colab-df-convert {\n",
              "      background-color: #3B4455;\n",
              "      fill: #D2E3FC;\n",
              "    }\n",
              "\n",
              "    [theme=dark] .colab-df-convert:hover {\n",
              "      background-color: #434B5C;\n",
              "      box-shadow: 0px 1px 3px 1px rgba(0, 0, 0, 0.15);\n",
              "      filter: drop-shadow(0px 1px 2px rgba(0, 0, 0, 0.3));\n",
              "      fill: #FFFFFF;\n",
              "    }\n",
              "  </style>\n",
              "\n",
              "      <script>\n",
              "        const buttonEl =\n",
              "          document.querySelector('#df-f4525e98-7a7a-47ad-ad46-c7c3c802d9d0 button.colab-df-convert');\n",
              "        buttonEl.style.display =\n",
              "          google.colab.kernel.accessAllowed ? 'block' : 'none';\n",
              "\n",
              "        async function convertToInteractive(key) {\n",
              "          const element = document.querySelector('#df-f4525e98-7a7a-47ad-ad46-c7c3c802d9d0');\n",
              "          const dataTable =\n",
              "            await google.colab.kernel.invokeFunction('convertToInteractive',\n",
              "                                                     [key], {});\n",
              "          if (!dataTable) return;\n",
              "\n",
              "          const docLinkHtml = 'Like what you see? Visit the ' +\n",
              "            '<a target=\"_blank\" href=https://colab.research.google.com/notebooks/data_table.ipynb>data table notebook</a>'\n",
              "            + ' to learn more about interactive tables.';\n",
              "          element.innerHTML = '';\n",
              "          dataTable['output_type'] = 'display_data';\n",
              "          await google.colab.output.renderOutput(dataTable, element);\n",
              "          const docLink = document.createElement('div');\n",
              "          docLink.innerHTML = docLinkHtml;\n",
              "          element.appendChild(docLink);\n",
              "        }\n",
              "      </script>\n",
              "    </div>\n",
              "  </div>\n",
              "  "
            ]
          },
          "metadata": {},
          "execution_count": 6
        }
      ]
    },
    {
      "cell_type": "code",
      "execution_count": 7,
      "metadata": {
        "id": "-raS-TEWUGff"
      },
      "outputs": [],
      "source": [
        "# Convert categorical data to numeric and separate target feature for training data\n",
        "x_train= pd.get_dummies(train_df.drop(columns=['target']))\n",
        "y_train= train_df['target']"
      ]
    },
    {
      "cell_type": "code",
      "source": [
        "x_train.head(2)"
      ],
      "metadata": {
        "colab": {
          "base_uri": "https://localhost:8080/",
          "height": 223
        },
        "id": "bQTHncTaLK6V",
        "outputId": "97fd31e6-9260-4a2f-c2e3-f597264c5235"
      },
      "execution_count": 8,
      "outputs": [
        {
          "output_type": "execute_result",
          "data": {
            "text/plain": [
              "   loan_amnt  int_rate  installment  annual_inc    dti  delinq_2yrs  \\\n",
              "0     7000.0    0.1894       256.38     75000.0  28.62          0.0   \n",
              "1    40000.0    0.1614       975.71    102000.0  11.72          2.0   \n",
              "\n",
              "   inq_last_6mths  open_acc  pub_rec  revol_bal  ...  \\\n",
              "0             2.0      20.0      0.0    40414.0  ...   \n",
              "1             0.0      10.0      0.0    43531.0  ...   \n",
              "\n",
              "   verification_status_Verified  pymnt_plan_n  initial_list_status_f  \\\n",
              "0                             0             1                      1   \n",
              "1                             0             1                      0   \n",
              "\n",
              "   initial_list_status_w  application_type_Individual  \\\n",
              "0                      0                            1   \n",
              "1                      1                            1   \n",
              "\n",
              "   application_type_Joint App  hardship_flag_N  hardship_flag_Y  \\\n",
              "0                           0                1                0   \n",
              "1                           0                1                0   \n",
              "\n",
              "   debt_settlement_flag_N  debt_settlement_flag_Y  \n",
              "0                       1                       0  \n",
              "1                       1                       0  \n",
              "\n",
              "[2 rows x 92 columns]"
            ],
            "text/html": [
              "\n",
              "  <div id=\"df-20477007-63e8-4b68-8e2f-45c499b3047e\">\n",
              "    <div class=\"colab-df-container\">\n",
              "      <div>\n",
              "<style scoped>\n",
              "    .dataframe tbody tr th:only-of-type {\n",
              "        vertical-align: middle;\n",
              "    }\n",
              "\n",
              "    .dataframe tbody tr th {\n",
              "        vertical-align: top;\n",
              "    }\n",
              "\n",
              "    .dataframe thead th {\n",
              "        text-align: right;\n",
              "    }\n",
              "</style>\n",
              "<table border=\"1\" class=\"dataframe\">\n",
              "  <thead>\n",
              "    <tr style=\"text-align: right;\">\n",
              "      <th></th>\n",
              "      <th>loan_amnt</th>\n",
              "      <th>int_rate</th>\n",
              "      <th>installment</th>\n",
              "      <th>annual_inc</th>\n",
              "      <th>dti</th>\n",
              "      <th>delinq_2yrs</th>\n",
              "      <th>inq_last_6mths</th>\n",
              "      <th>open_acc</th>\n",
              "      <th>pub_rec</th>\n",
              "      <th>revol_bal</th>\n",
              "      <th>...</th>\n",
              "      <th>verification_status_Verified</th>\n",
              "      <th>pymnt_plan_n</th>\n",
              "      <th>initial_list_status_f</th>\n",
              "      <th>initial_list_status_w</th>\n",
              "      <th>application_type_Individual</th>\n",
              "      <th>application_type_Joint App</th>\n",
              "      <th>hardship_flag_N</th>\n",
              "      <th>hardship_flag_Y</th>\n",
              "      <th>debt_settlement_flag_N</th>\n",
              "      <th>debt_settlement_flag_Y</th>\n",
              "    </tr>\n",
              "  </thead>\n",
              "  <tbody>\n",
              "    <tr>\n",
              "      <th>0</th>\n",
              "      <td>7000.0</td>\n",
              "      <td>0.1894</td>\n",
              "      <td>256.38</td>\n",
              "      <td>75000.0</td>\n",
              "      <td>28.62</td>\n",
              "      <td>0.0</td>\n",
              "      <td>2.0</td>\n",
              "      <td>20.0</td>\n",
              "      <td>0.0</td>\n",
              "      <td>40414.0</td>\n",
              "      <td>...</td>\n",
              "      <td>0</td>\n",
              "      <td>1</td>\n",
              "      <td>1</td>\n",
              "      <td>0</td>\n",
              "      <td>1</td>\n",
              "      <td>0</td>\n",
              "      <td>1</td>\n",
              "      <td>0</td>\n",
              "      <td>1</td>\n",
              "      <td>0</td>\n",
              "    </tr>\n",
              "    <tr>\n",
              "      <th>1</th>\n",
              "      <td>40000.0</td>\n",
              "      <td>0.1614</td>\n",
              "      <td>975.71</td>\n",
              "      <td>102000.0</td>\n",
              "      <td>11.72</td>\n",
              "      <td>2.0</td>\n",
              "      <td>0.0</td>\n",
              "      <td>10.0</td>\n",
              "      <td>0.0</td>\n",
              "      <td>43531.0</td>\n",
              "      <td>...</td>\n",
              "      <td>0</td>\n",
              "      <td>1</td>\n",
              "      <td>0</td>\n",
              "      <td>1</td>\n",
              "      <td>1</td>\n",
              "      <td>0</td>\n",
              "      <td>1</td>\n",
              "      <td>0</td>\n",
              "      <td>1</td>\n",
              "      <td>0</td>\n",
              "    </tr>\n",
              "  </tbody>\n",
              "</table>\n",
              "<p>2 rows × 92 columns</p>\n",
              "</div>\n",
              "      <button class=\"colab-df-convert\" onclick=\"convertToInteractive('df-20477007-63e8-4b68-8e2f-45c499b3047e')\"\n",
              "              title=\"Convert this dataframe to an interactive table.\"\n",
              "              style=\"display:none;\">\n",
              "        \n",
              "  <svg xmlns=\"http://www.w3.org/2000/svg\" height=\"24px\"viewBox=\"0 0 24 24\"\n",
              "       width=\"24px\">\n",
              "    <path d=\"M0 0h24v24H0V0z\" fill=\"none\"/>\n",
              "    <path d=\"M18.56 5.44l.94 2.06.94-2.06 2.06-.94-2.06-.94-.94-2.06-.94 2.06-2.06.94zm-11 1L8.5 8.5l.94-2.06 2.06-.94-2.06-.94L8.5 2.5l-.94 2.06-2.06.94zm10 10l.94 2.06.94-2.06 2.06-.94-2.06-.94-.94-2.06-.94 2.06-2.06.94z\"/><path d=\"M17.41 7.96l-1.37-1.37c-.4-.4-.92-.59-1.43-.59-.52 0-1.04.2-1.43.59L10.3 9.45l-7.72 7.72c-.78.78-.78 2.05 0 2.83L4 21.41c.39.39.9.59 1.41.59.51 0 1.02-.2 1.41-.59l7.78-7.78 2.81-2.81c.8-.78.8-2.07 0-2.86zM5.41 20L4 18.59l7.72-7.72 1.47 1.35L5.41 20z\"/>\n",
              "  </svg>\n",
              "      </button>\n",
              "      \n",
              "  <style>\n",
              "    .colab-df-container {\n",
              "      display:flex;\n",
              "      flex-wrap:wrap;\n",
              "      gap: 12px;\n",
              "    }\n",
              "\n",
              "    .colab-df-convert {\n",
              "      background-color: #E8F0FE;\n",
              "      border: none;\n",
              "      border-radius: 50%;\n",
              "      cursor: pointer;\n",
              "      display: none;\n",
              "      fill: #1967D2;\n",
              "      height: 32px;\n",
              "      padding: 0 0 0 0;\n",
              "      width: 32px;\n",
              "    }\n",
              "\n",
              "    .colab-df-convert:hover {\n",
              "      background-color: #E2EBFA;\n",
              "      box-shadow: 0px 1px 2px rgba(60, 64, 67, 0.3), 0px 1px 3px 1px rgba(60, 64, 67, 0.15);\n",
              "      fill: #174EA6;\n",
              "    }\n",
              "\n",
              "    [theme=dark] .colab-df-convert {\n",
              "      background-color: #3B4455;\n",
              "      fill: #D2E3FC;\n",
              "    }\n",
              "\n",
              "    [theme=dark] .colab-df-convert:hover {\n",
              "      background-color: #434B5C;\n",
              "      box-shadow: 0px 1px 3px 1px rgba(0, 0, 0, 0.15);\n",
              "      filter: drop-shadow(0px 1px 2px rgba(0, 0, 0, 0.3));\n",
              "      fill: #FFFFFF;\n",
              "    }\n",
              "  </style>\n",
              "\n",
              "      <script>\n",
              "        const buttonEl =\n",
              "          document.querySelector('#df-20477007-63e8-4b68-8e2f-45c499b3047e button.colab-df-convert');\n",
              "        buttonEl.style.display =\n",
              "          google.colab.kernel.accessAllowed ? 'block' : 'none';\n",
              "\n",
              "        async function convertToInteractive(key) {\n",
              "          const element = document.querySelector('#df-20477007-63e8-4b68-8e2f-45c499b3047e');\n",
              "          const dataTable =\n",
              "            await google.colab.kernel.invokeFunction('convertToInteractive',\n",
              "                                                     [key], {});\n",
              "          if (!dataTable) return;\n",
              "\n",
              "          const docLinkHtml = 'Like what you see? Visit the ' +\n",
              "            '<a target=\"_blank\" href=https://colab.research.google.com/notebooks/data_table.ipynb>data table notebook</a>'\n",
              "            + ' to learn more about interactive tables.';\n",
              "          element.innerHTML = '';\n",
              "          dataTable['output_type'] = 'display_data';\n",
              "          await google.colab.output.renderOutput(dataTable, element);\n",
              "          const docLink = document.createElement('div');\n",
              "          docLink.innerHTML = docLinkHtml;\n",
              "          element.appendChild(docLink);\n",
              "        }\n",
              "      </script>\n",
              "    </div>\n",
              "  </div>\n",
              "  "
            ]
          },
          "metadata": {},
          "execution_count": 8
        }
      ]
    },
    {
      "cell_type": "code",
      "source": [
        "y_train.head(2)"
      ],
      "metadata": {
        "colab": {
          "base_uri": "https://localhost:8080/"
        },
        "id": "kgTvs1ieLVxu",
        "outputId": "e5c9c05f-6f3d-40d7-bea5-a2a64d406e6c"
      },
      "execution_count": 9,
      "outputs": [
        {
          "output_type": "execute_result",
          "data": {
            "text/plain": [
              "0    low_risk\n",
              "1    low_risk\n",
              "Name: target, dtype: object"
            ]
          },
          "metadata": {},
          "execution_count": 9
        }
      ]
    },
    {
      "cell_type": "code",
      "execution_count": 15,
      "metadata": {
        "id": "jMQpVg3YLmKn"
      },
      "outputs": [],
      "source": [
        "# Convert categorical data to numeric and separate target feature for training data\n",
        "x_test= pd.get_dummies(test_df.drop(columns=['target']))\n",
        "y_test= test_df['target']"
      ]
    },
    {
      "cell_type": "code",
      "source": [
        "x_test.head(2)"
      ],
      "metadata": {
        "colab": {
          "base_uri": "https://localhost:8080/",
          "height": 223
        },
        "id": "yKmPopu8M0Kx",
        "outputId": "2d72a4c9-deee-4afe-8031-3400de27e281"
      },
      "execution_count": 12,
      "outputs": [
        {
          "output_type": "execute_result",
          "data": {
            "text/plain": [
              "   loan_amnt  int_rate  installment  annual_inc    dti  delinq_2yrs  \\\n",
              "0     7000.0    0.1894       256.38     75000.0  28.62          0.0   \n",
              "1    40000.0    0.1614       975.71    102000.0  11.72          2.0   \n",
              "\n",
              "   inq_last_6mths  open_acc  pub_rec  revol_bal  ...  \\\n",
              "0             2.0      20.0      0.0    40414.0  ...   \n",
              "1             0.0      10.0      0.0    43531.0  ...   \n",
              "\n",
              "   verification_status_Verified  pymnt_plan_n  initial_list_status_f  \\\n",
              "0                             0             1                      1   \n",
              "1                             0             1                      0   \n",
              "\n",
              "   initial_list_status_w  application_type_Individual  \\\n",
              "0                      0                            1   \n",
              "1                      1                            1   \n",
              "\n",
              "   application_type_Joint App  hardship_flag_N  hardship_flag_Y  \\\n",
              "0                           0                1                0   \n",
              "1                           0                1                0   \n",
              "\n",
              "   debt_settlement_flag_N  debt_settlement_flag_Y  \n",
              "0                       1                       0  \n",
              "1                       1                       0  \n",
              "\n",
              "[2 rows x 92 columns]"
            ],
            "text/html": [
              "\n",
              "  <div id=\"df-e46002b8-fca2-4dc8-9b1f-4287a1ff36a5\">\n",
              "    <div class=\"colab-df-container\">\n",
              "      <div>\n",
              "<style scoped>\n",
              "    .dataframe tbody tr th:only-of-type {\n",
              "        vertical-align: middle;\n",
              "    }\n",
              "\n",
              "    .dataframe tbody tr th {\n",
              "        vertical-align: top;\n",
              "    }\n",
              "\n",
              "    .dataframe thead th {\n",
              "        text-align: right;\n",
              "    }\n",
              "</style>\n",
              "<table border=\"1\" class=\"dataframe\">\n",
              "  <thead>\n",
              "    <tr style=\"text-align: right;\">\n",
              "      <th></th>\n",
              "      <th>loan_amnt</th>\n",
              "      <th>int_rate</th>\n",
              "      <th>installment</th>\n",
              "      <th>annual_inc</th>\n",
              "      <th>dti</th>\n",
              "      <th>delinq_2yrs</th>\n",
              "      <th>inq_last_6mths</th>\n",
              "      <th>open_acc</th>\n",
              "      <th>pub_rec</th>\n",
              "      <th>revol_bal</th>\n",
              "      <th>...</th>\n",
              "      <th>verification_status_Verified</th>\n",
              "      <th>pymnt_plan_n</th>\n",
              "      <th>initial_list_status_f</th>\n",
              "      <th>initial_list_status_w</th>\n",
              "      <th>application_type_Individual</th>\n",
              "      <th>application_type_Joint App</th>\n",
              "      <th>hardship_flag_N</th>\n",
              "      <th>hardship_flag_Y</th>\n",
              "      <th>debt_settlement_flag_N</th>\n",
              "      <th>debt_settlement_flag_Y</th>\n",
              "    </tr>\n",
              "  </thead>\n",
              "  <tbody>\n",
              "    <tr>\n",
              "      <th>0</th>\n",
              "      <td>7000.0</td>\n",
              "      <td>0.1894</td>\n",
              "      <td>256.38</td>\n",
              "      <td>75000.0</td>\n",
              "      <td>28.62</td>\n",
              "      <td>0.0</td>\n",
              "      <td>2.0</td>\n",
              "      <td>20.0</td>\n",
              "      <td>0.0</td>\n",
              "      <td>40414.0</td>\n",
              "      <td>...</td>\n",
              "      <td>0</td>\n",
              "      <td>1</td>\n",
              "      <td>1</td>\n",
              "      <td>0</td>\n",
              "      <td>1</td>\n",
              "      <td>0</td>\n",
              "      <td>1</td>\n",
              "      <td>0</td>\n",
              "      <td>1</td>\n",
              "      <td>0</td>\n",
              "    </tr>\n",
              "    <tr>\n",
              "      <th>1</th>\n",
              "      <td>40000.0</td>\n",
              "      <td>0.1614</td>\n",
              "      <td>975.71</td>\n",
              "      <td>102000.0</td>\n",
              "      <td>11.72</td>\n",
              "      <td>2.0</td>\n",
              "      <td>0.0</td>\n",
              "      <td>10.0</td>\n",
              "      <td>0.0</td>\n",
              "      <td>43531.0</td>\n",
              "      <td>...</td>\n",
              "      <td>0</td>\n",
              "      <td>1</td>\n",
              "      <td>0</td>\n",
              "      <td>1</td>\n",
              "      <td>1</td>\n",
              "      <td>0</td>\n",
              "      <td>1</td>\n",
              "      <td>0</td>\n",
              "      <td>1</td>\n",
              "      <td>0</td>\n",
              "    </tr>\n",
              "  </tbody>\n",
              "</table>\n",
              "<p>2 rows × 92 columns</p>\n",
              "</div>\n",
              "      <button class=\"colab-df-convert\" onclick=\"convertToInteractive('df-e46002b8-fca2-4dc8-9b1f-4287a1ff36a5')\"\n",
              "              title=\"Convert this dataframe to an interactive table.\"\n",
              "              style=\"display:none;\">\n",
              "        \n",
              "  <svg xmlns=\"http://www.w3.org/2000/svg\" height=\"24px\"viewBox=\"0 0 24 24\"\n",
              "       width=\"24px\">\n",
              "    <path d=\"M0 0h24v24H0V0z\" fill=\"none\"/>\n",
              "    <path d=\"M18.56 5.44l.94 2.06.94-2.06 2.06-.94-2.06-.94-.94-2.06-.94 2.06-2.06.94zm-11 1L8.5 8.5l.94-2.06 2.06-.94-2.06-.94L8.5 2.5l-.94 2.06-2.06.94zm10 10l.94 2.06.94-2.06 2.06-.94-2.06-.94-.94-2.06-.94 2.06-2.06.94z\"/><path d=\"M17.41 7.96l-1.37-1.37c-.4-.4-.92-.59-1.43-.59-.52 0-1.04.2-1.43.59L10.3 9.45l-7.72 7.72c-.78.78-.78 2.05 0 2.83L4 21.41c.39.39.9.59 1.41.59.51 0 1.02-.2 1.41-.59l7.78-7.78 2.81-2.81c.8-.78.8-2.07 0-2.86zM5.41 20L4 18.59l7.72-7.72 1.47 1.35L5.41 20z\"/>\n",
              "  </svg>\n",
              "      </button>\n",
              "      \n",
              "  <style>\n",
              "    .colab-df-container {\n",
              "      display:flex;\n",
              "      flex-wrap:wrap;\n",
              "      gap: 12px;\n",
              "    }\n",
              "\n",
              "    .colab-df-convert {\n",
              "      background-color: #E8F0FE;\n",
              "      border: none;\n",
              "      border-radius: 50%;\n",
              "      cursor: pointer;\n",
              "      display: none;\n",
              "      fill: #1967D2;\n",
              "      height: 32px;\n",
              "      padding: 0 0 0 0;\n",
              "      width: 32px;\n",
              "    }\n",
              "\n",
              "    .colab-df-convert:hover {\n",
              "      background-color: #E2EBFA;\n",
              "      box-shadow: 0px 1px 2px rgba(60, 64, 67, 0.3), 0px 1px 3px 1px rgba(60, 64, 67, 0.15);\n",
              "      fill: #174EA6;\n",
              "    }\n",
              "\n",
              "    [theme=dark] .colab-df-convert {\n",
              "      background-color: #3B4455;\n",
              "      fill: #D2E3FC;\n",
              "    }\n",
              "\n",
              "    [theme=dark] .colab-df-convert:hover {\n",
              "      background-color: #434B5C;\n",
              "      box-shadow: 0px 1px 3px 1px rgba(0, 0, 0, 0.15);\n",
              "      filter: drop-shadow(0px 1px 2px rgba(0, 0, 0, 0.3));\n",
              "      fill: #FFFFFF;\n",
              "    }\n",
              "  </style>\n",
              "\n",
              "      <script>\n",
              "        const buttonEl =\n",
              "          document.querySelector('#df-e46002b8-fca2-4dc8-9b1f-4287a1ff36a5 button.colab-df-convert');\n",
              "        buttonEl.style.display =\n",
              "          google.colab.kernel.accessAllowed ? 'block' : 'none';\n",
              "\n",
              "        async function convertToInteractive(key) {\n",
              "          const element = document.querySelector('#df-e46002b8-fca2-4dc8-9b1f-4287a1ff36a5');\n",
              "          const dataTable =\n",
              "            await google.colab.kernel.invokeFunction('convertToInteractive',\n",
              "                                                     [key], {});\n",
              "          if (!dataTable) return;\n",
              "\n",
              "          const docLinkHtml = 'Like what you see? Visit the ' +\n",
              "            '<a target=\"_blank\" href=https://colab.research.google.com/notebooks/data_table.ipynb>data table notebook</a>'\n",
              "            + ' to learn more about interactive tables.';\n",
              "          element.innerHTML = '';\n",
              "          dataTable['output_type'] = 'display_data';\n",
              "          await google.colab.output.renderOutput(dataTable, element);\n",
              "          const docLink = document.createElement('div');\n",
              "          docLink.innerHTML = docLinkHtml;\n",
              "          element.appendChild(docLink);\n",
              "        }\n",
              "      </script>\n",
              "    </div>\n",
              "  </div>\n",
              "  "
            ]
          },
          "metadata": {},
          "execution_count": 12
        }
      ]
    },
    {
      "cell_type": "code",
      "source": [
        "y_test.head(2)"
      ],
      "metadata": {
        "colab": {
          "base_uri": "https://localhost:8080/"
        },
        "id": "cWJOez1eM_eg",
        "outputId": "8971ab9f-2059-48c6-fec9-831d8a4adede"
      },
      "execution_count": 13,
      "outputs": [
        {
          "output_type": "execute_result",
          "data": {
            "text/plain": [
              "0    low_risk\n",
              "1    low_risk\n",
              "Name: target, dtype: object"
            ]
          },
          "metadata": {},
          "execution_count": 13
        }
      ]
    },
    {
      "cell_type": "code",
      "execution_count": 16,
      "metadata": {
        "id": "QwHDR7FsUGff"
      },
      "outputs": [],
      "source": [
        "# add missing dummy variables to testing set\n",
        "for col in x_train.columns:\n",
        "  if col not in x_test.columns:\n",
        "    x_test[col]=0"
      ]
    },
    {
      "cell_type": "markdown",
      "source": [
        "Prediction on unscaled data: I predict that the Random Forest Classifier Model will perform better on unscaled data because it performs better with the several smaller trees on data with various parameters. Each tree would build from a subset of data, making the combined trees a stronger classifier. "
      ],
      "metadata": {
        "id": "RcfMrT0YfyH8"
      }
    },
    {
      "cell_type": "code",
      "execution_count": 19,
      "metadata": {
        "colab": {
          "base_uri": "https://localhost:8080/"
        },
        "id": "cZ1H9-plUGff",
        "outputId": "9c8d8ccd-7ee3-4b08-d42e-ad110251a752"
      },
      "outputs": [
        {
          "output_type": "execute_result",
          "data": {
            "text/plain": [
              "0.5082943428328371"
            ]
          },
          "metadata": {},
          "execution_count": 19
        }
      ],
      "source": [
        "# Train the Logistic Regression model on the unscaled data and print the model score\n",
        "classifier = LogisticRegression()\n",
        "classifier.fit(x_train, y_train)\n",
        "classifier.score(x_test, y_test)\n"
      ]
    },
    {
      "cell_type": "code",
      "execution_count": 20,
      "metadata": {
        "colab": {
          "base_uri": "https://localhost:8080/"
        },
        "id": "0zRh388sUGfg",
        "outputId": "6c508402-8980-4d5a-f714-480d412b5ed5"
      },
      "outputs": [
        {
          "output_type": "execute_result",
          "data": {
            "text/plain": [
              "0.6335601871544024"
            ]
          },
          "metadata": {},
          "execution_count": 20
        }
      ],
      "source": [
        "# Train a Random Forest Classifier model and print the model score\n",
        "rfc= RandomForestClassifier()\n",
        "rfc.fit(x_train, y_train)\n",
        "rfc.score(x_test, y_test)"
      ]
    },
    {
      "cell_type": "markdown",
      "source": [
        "The prediction that the Random Forest Classifier model would prove to perform better was proven true with a test score of 0.633 which is slight larger than the logistic regression test score of 0.508. Both scores show that both are not the strongest models because they have a 51-60% accuracy rate on the tested data. Not the best classification model to prove high or low risk loan candidates."
      ],
      "metadata": {
        "id": "JzixXr1_oC0_"
      }
    },
    {
      "cell_type": "code",
      "execution_count": 22,
      "metadata": {
        "id": "L-udD7jCUGfg"
      },
      "outputs": [],
      "source": [
        "# Scale the data\n",
        "from sklearn.preprocessing import StandardScaler\n",
        "scaler= StandardScaler()\n",
        "scaler.fit(x_train)\n",
        "x_train_scaled= scaler.transform(x_train)\n",
        "x_test_scaled=scaler.transform(x_test)"
      ]
    },
    {
      "cell_type": "markdown",
      "source": [
        "Prediction on scaled data: I predict that the Random Forest Classifier Model will perform better again on unscaled data because it performs better with the several smaller trees on data with various parameters. Each tree would build from a subset of data, making the combined trees a stronger classifier."
      ],
      "metadata": {
        "id": "L1jTiV16pDIV"
      }
    },
    {
      "cell_type": "code",
      "execution_count": 23,
      "metadata": {
        "colab": {
          "base_uri": "https://localhost:8080/"
        },
        "id": "Zbu9YqwmUGfh",
        "outputId": "b6b271de-0e25-4e44-90e7-c4c4862dbaf6"
      },
      "outputs": [
        {
          "output_type": "execute_result",
          "data": {
            "text/plain": [
              "0.7598894087622289"
            ]
          },
          "metadata": {},
          "execution_count": 23
        }
      ],
      "source": [
        "# Train the Logistic Regression model on the scaled data and print the model score\n",
        "classifier = LogisticRegression()\n",
        "classifier.fit(x_train_scaled, y_train)\n",
        "classifier.score(x_test_scaled, y_test)\n"
      ]
    },
    {
      "cell_type": "code",
      "execution_count": 24,
      "metadata": {
        "colab": {
          "base_uri": "https://localhost:8080/"
        },
        "outputId": "005ab250-9736-4063-84d6-869ebf947c6b",
        "id": "7hciK9uUSmko"
      },
      "outputs": [
        {
          "output_type": "execute_result",
          "data": {
            "text/plain": [
              "0.6390897490429605"
            ]
          },
          "metadata": {},
          "execution_count": 24
        }
      ],
      "source": [
        "# Train a Random Forest Classifier model and print the model score\n",
        "rfc= RandomForestClassifier()\n",
        "rfc.fit(x_train_scaled, y_train)\n",
        "rfc.score(x_test_scaled, y_test)"
      ]
    },
    {
      "cell_type": "markdown",
      "source": [
        "The prediction that the Random Forest Classifier model would prove to perform better was proven false with a test score of 0.639 which is less than the logistic regression test score of 0.760. Both scores show that both are not the strongest models because they have a 60-70% accuracy rate on the tested data. However, the scaled data appear to be a better set of data to produce slightly better model scores than the unscaled data models."
      ],
      "metadata": {
        "id": "W4FNob1hpRwG"
      }
    }
  ],
  "metadata": {
    "kernelspec": {
      "display_name": "Python 3",
      "language": "python",
      "name": "python3"
    },
    "language_info": {
      "codemirror_mode": {
        "name": "ipython",
        "version": 3
      },
      "file_extension": ".py",
      "mimetype": "text/x-python",
      "name": "python",
      "nbconvert_exporter": "python",
      "pygments_lexer": "ipython3",
      "version": "3.7.6"
    },
    "colab": {
      "name": "Credit Risk Evaluator.ipynb",
      "provenance": [],
      "include_colab_link": true
    }
  },
  "nbformat": 4,
  "nbformat_minor": 0
}